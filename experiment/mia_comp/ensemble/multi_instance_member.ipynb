{
 "cells": [
  {
   "cell_type": "markdown",
   "metadata": {},
   "source": [
    "Script to investigate the members found at a FPR@$\\beta$ of single instance of a attack $a$ v.s. the members found at the same FPR@$\\beta$ of multi instance of the same attack $a$. (Archived, not used in our paper)"
   ]
  },
  {
   "cell_type": "code",
   "execution_count": 1,
   "metadata": {},
   "outputs": [],
   "source": [
    "import os\n",
    "import numpy as np\n",
    "from typing import List, Tuple, Dict\n",
    "import itertools\n",
    "from copy import deepcopy\n",
    "import sys\n",
    "from pandas import DataFrame\n",
    "import pandas as pd\n",
    "import seaborn as sns\n",
    "from tqdm import tqdm\n",
    "import matplotlib.pyplot as plt\n",
    "\n",
    "sys.path.append(\"../../../\")\n",
    "sys.path.append(\"../../\")\n",
    "sys.path.append(\"../\")\n",
    "from miae.eval_methods.experiment import ExperimentSet, TargetDataset\n",
    "from miae.eval_methods.prediction import Predictions, HardPreds, plot_roc_hard_preds, get_fpr_tpr_hard_label\n",
    "\n",
    "sns.set_context(\"paper\")\n",
    "# set fontsize\n",
    "plt.rc('xtick', labelsize=7)\n",
    "plt.rc('ytick', labelsize=7)\n",
    "plt.rc('legend', fontsize=7)\n",
    "plt.rc('font', size=7)       \n",
    "plt.rc('axes', titlesize=8)    \n",
    "plt.rc('axes', labelsize=8)\n",
    "\n",
    "\n",
    "plt.rcParams[\"font.weight\"] = \"bold\"\n",
    "plt.rcParams[\"axes.labelweight\"] = \"bold\"\n",
    "\n",
    "mia_name_mapping = {\"losstraj\": \"losstraj\", \"shokri\": \"Class-NN\", \"yeom\": \"LOSS\", \"lira\": \"LiRA\", \"aug\": \"aug\", \"calibration\": \"calibrated-loss\", \"reference\": \"reference\"}\n",
    "mia_color_mapping = {\"losstraj\": '#1f77b4', \"shokri\": '#ff7f0e', \"yeom\": '#2ca02c', \"lira\": '#d62728', \"aug\": '#9467bd', \"calibration\": '#8c564b', \"reference\": '#e377c2'}\n"
   ]
  },
  {
   "cell_type": "code",
   "execution_count": 2,
   "metadata": {},
   "outputs": [],
   "source": [
    "# parameters:\n",
    "attack = \"reference\" # could be \"reference\", \"lira\", \"shokri\", \"calibration\"\n",
    "dataset = \"cifar10\" # could be \"cifar10\", \"cifar100\", \"cinic10\"\n",
    "base_fpr = 0.01 # the base fpr for each instance\n",
    "seeds = [0, 1, 2, 3, 4, 5]\n",
    "model = \"resnet56\"\n",
    "ensemble_method = \"intersection\"\n",
    "datapath = \"data/miae_experiment_aug_more_target_data\"\n",
    "save_path = f'{datapath}/multi_instance_vs_single_instance'\n",
    "if not os.path.exists(save_path):\n",
    "    os.makedirs(save_path)"
   ]
  },
  {
   "cell_type": "markdown",
   "metadata": {},
   "source": [
    "1. Load the experiment set and dataset"
   ]
  },
  {
   "cell_type": "code",
   "execution_count": 7,
   "metadata": {},
   "outputs": [
    {
     "name": "stdout",
     "output_type": "stream",
     "text": [
      "Loaded successfully.\n"
     ]
    }
   ],
   "source": [
    "target_dataset = TargetDataset.from_dir(dataset, f\"{datapath}/target/{dataset}\")\n",
    "experiment = ExperimentSet.from_dir(target_dataset, [attack], datapath, seeds, model)\n",
    "print(\"Loaded successfully.\")"
   ]
  },
  {
   "cell_type": "markdown",
   "metadata": {},
   "source": [
    "2. Load the the predictions of `seeds`, adjust them to `base_fpr`, and ensemble them with `ensemble_method`."
   ]
  },
  {
   "cell_type": "code",
   "execution_count": null,
   "metadata": {},
   "outputs": [
    {
     "name": "stdout",
     "output_type": "stream",
     "text": [
      "Requirement already satisfied: nbimporter in /home/pengy12/.conda/envs/miae/lib/python3.11/site-packages (0.3.4)\n",
      "Note: you may need to restart the kernel to use updated packages.\n"
     ]
    }
   ],
   "source": [
    "%pip install nbimporter"
   ]
  },
  {
   "cell_type": "code",
   "execution_count": null,
   "metadata": {},
   "outputs": [
    {
     "name": "stdout",
     "output_type": "stream",
     "text": [
      "Ensembled predictions using method 'intersection' at base FPR 0.01.\n"
     ]
    }
   ],
   "source": [
    "\n",
    "import nbimporter\n",
    "from max_ensemble_low_fpr import apply_operation\n",
    "\n",
    "# Store Predictions for each seed\n",
    "seed_predictions = []\n",
    "\n",
    "# Iterate through each seed and load the predictions for the specified attack\n",
    "for seed in seeds:\n",
    "    # Retrieve predictions for the specified attack and seed\n",
    "    predictions = experiment.retrieve_preds(attack, seed)\n",
    "    \n",
    "    # Adjust predictions to the specified  False Positive Rate (base_fpr) \n",
    "    # Meaning that each single-seed prediction should achieve approximately this FPR before ensembling.\n",
    "    adjusted_predictions = Predictions(predictions.adjust_fpr(base_fpr), predictions.ground_truth_arr, predictions.name)\n",
    "    \n",
    "    # Append the adjusted predictions to the list\n",
    "    seed_predictions.append(adjusted_predictions)\n",
    "\n",
    "# Use apply_operation to ensemble the adjusted predictions across seeds\n",
    "ensemble_predictions = apply_operation(seed_predictions, operation=ensemble_method)\n",
    "\n",
    "\n",
    "print(f\"Ensembled predictions using method '{ensemble_method}' at base FPR {base_fpr}.\")\n"
   ]
  },
  {
   "cell_type": "markdown",
   "metadata": {},
   "source": [
    "3. Calculate the FPR after ensemble (this FPR would be the $\\beta$ mentioned above), and pick the same attack with seed 0 (single-instance), to adjust the FPR to the same value $\\beta$."
   ]
  },
  {
   "cell_type": "code",
   "execution_count": 14,
   "metadata": {},
   "outputs": [
    {
     "name": "stdout",
     "output_type": "stream",
     "text": [
      "FPR (β) of ensemble predictions: 0.0003333333333333333\n",
      "Single-instance adjusted to ensemble FPR (β) at 0.0003333333333333333.\n"
     ]
    }
   ],
   "source": [
    "# Calculate the FPR of the ensemble predictions\n",
    "ensemble_fpr = ensemble_predictions.compute_fpr()\n",
    "print(f\"FPR (β) of ensemble predictions: {ensemble_fpr}\")\n",
    "\n",
    "\n",
    "# Predictions for the same attack with seed 0 (single-instance)\n",
    "single_instance_predictions = experiment.retrieve_preds(attack, 0)\n",
    "\n",
    "# Adjust the single-instance predictions to match the ensemble FPR (β)\n",
    "adjusted_single_instance_predictions = Predictions(\n",
    "    single_instance_predictions.adjust_fpr(ensemble_fpr),\n",
    "    single_instance_predictions.ground_truth_arr,\n",
    "    f\"{attack}_single_instance_adjusted\"\n",
    ")\n",
    "\n",
    "print(f\"Single-instance adjusted to ensemble FPR (β) at {ensemble_fpr}.\")\n",
    "\n",
    "\n"
   ]
  },
  {
   "cell_type": "markdown",
   "metadata": {},
   "source": [
    "4. Plot Venn Diagram to compare the members found at the same FPR@$\\beta$ of single instance of a attack $a$ v.s. the members found at the same FPR@$\\beta$ of multi instance of the same attack $a$."
   ]
  },
  {
   "cell_type": "code",
   "execution_count": 16,
   "metadata": {},
   "outputs": [
    {
     "data": {
      "image/png": "[encoded data removed]",
      "text/plain": [
       "<Figure size 600x600 with 1 Axes>"
      ]
     },
     "metadata": {},
     "output_type": "display_data"
    }
   ],
   "source": [
    "from matplotlib_venn import venn2\n",
    "\n",
    "# Get true positive for both single-instance and multi-instance predictions\n",
    "ensemble_tp_indices = set(ensemble_predictions.get_tp())\n",
    "single_instance_tp_indices = set(adjusted_single_instance_predictions.get_tp())\n",
    "\n",
    "# Calculate unique and overlapping indices\n",
    "unique_to_ensemble = len(ensemble_tp_indices - single_instance_tp_indices)\n",
    "unique_to_single = len(single_instance_tp_indices - ensemble_tp_indices)\n",
    "intersection = len(ensemble_tp_indices & single_instance_tp_indices)\n",
    "\n",
    "# Plot Venn Diagram\n",
    "plt.figure(figsize=(6, 6))\n",
    "venn2(\n",
    "    subsets=(unique_to_single, unique_to_ensemble, intersection),\n",
    "    set_labels=('Single Instance', 'Multi Instance (Ensemble)')\n",
    ")\n",
    "plt.title(f\"Venn Diagram of True Positives at FPR@β ({ensemble_fpr})\")\n",
    "plt.show()\n"
   ]
  },
  {
   "cell_type": "markdown",
   "metadata": {},
   "source": [
    "\n",
    "After using intersection (stability), the FPR decrease, drop to nearly zero. At this low FPR:\n",
    "\n",
    "1.  Multi-instance ensemble has overall identified more true positives compared to the single-instance.\n",
    "2.  Low overlap indicates that each instance captures a different set of members?\n",
    "\n"
   ]
  }
 ],
 "metadata": {
  "kernelspec": {
   "display_name": "miae",
   "language": "python",
   "name": "python3"
  },
  "language_info": {
   "codemirror_mode": {
    "name": "ipython",
    "version": 3
   },
   "file_extension": ".py",
   "mimetype": "text/x-python",
   "name": "python",
   "nbconvert_exporter": "python",
   "pygments_lexer": "ipython3",
   "version": "3.11.4"
  }
 },
 "nbformat": 4,
 "nbformat_minor": 2
}
